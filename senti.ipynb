{
 "cells": [
  {
   "cell_type": "code",
   "execution_count": 1,
   "metadata": {},
   "outputs": [],
   "source": [
    "!pip install beautifulsoup4\n",
    "!pip install -U textblob\n",
    "!pip install nltk"
   ]
  },
  {
   "cell_type": "code",
   "execution_count": null,
   "metadata": {
    "collapsed": true
   },
   "outputs": [],
   "source": [
    "from bs4 import BeautifulSoup\n",
    "import os,shutil,requests,csv\n",
    "import pandas as pd\n",
    "import numpy as np\n",
    "import re\n",
    "import textblob\n",
    "import nltk\n",
    "from textblob import TextBlob\n",
    "nltk.download('stopwords')"
   ]
  },
  {
   "cell_type": "code",
   "execution_count": 75,
   "metadata": {},
   "outputs": [],
   "source": [
    "class senti():\n",
    "    \n",
    "    def DownloadArticle(self):\n",
    "        URL = r'http://www.thehindu.com/archive/print/2017/11/{}/'\n",
    "        BOLD = '\\033[1m';END = '\\033[0m'\n",
    "        DATES = [15,16,17,18,19]\n",
    "        CITIES = ['New Delhi','Mumbai','Bengaluru','Chennai',\n",
    "                  'Hyderabad','Kolkata','Kochi','Vijayawada','Visakhapatnam']\n",
    "        header = ['cityname','Article']\n",
    "        print('data will be scrapped from 15th to 19th november')\n",
    "        with open('Articles.csv','w',encoding='utf-8') as f:\n",
    "            writer = csv.writer(f,delimiter=',')\n",
    "            writer.writerow(header)\n",
    "            for x in DATES:\n",
    "                print(BOLD+'getting articles for '+END + URL.format(x))\n",
    "                resp = requests.get(URL.format(x))\n",
    "                soup = BeautifulSoup(resp.content, 'lxml')\n",
    "                for d in CITIES:\n",
    "                    count = 0\n",
    "                    print(BOLD + d + END,end='') #city\n",
    "                    for c in soup.find_all('h4',text=d.lower()):\n",
    "                    #print(c.text)\n",
    "\n",
    "                        nex = c.find_next_sibling()\n",
    "                        for UR in nex.find_all('a'):\n",
    "                            count+=1\n",
    "                            article = []\n",
    "                            ARTICLEURL = UR.get('href')\n",
    "                            #print(ARTICLEURL)\n",
    "                            res2 = requests.get(ARTICLEURL)\n",
    "                            soup2 = BeautifulSoup(res2.content,'lxml')\n",
    "                            for _ in soup2.find_all(['p'],_class=''):\n",
    "                                article.append(_.text.strip())\n",
    "                            try:\n",
    "                                writer.writerow([d,article])\n",
    "                            except:\n",
    "                                pass\n",
    "                    print(' - done with {} articles'.format(count))\n",
    "    def transform(self,x):\n",
    "        final = []\n",
    "\n",
    "        stopwords = nltk.corpus.stopwords.words('english')\n",
    "        _word = TextBlob(x)\n",
    "        _word = _word.words.singularize().lemmatize()\n",
    "        _word = [w for w in _word if w not in stopwords]\n",
    "        return ' '.join(x for x in _word)\n",
    "\n",
    "    def analyse(self):\n",
    "        df = pd.read_csv('Articles.csv')\n",
    "        df['Article'] = df['Article'].apply(lambda x: re.sub(pattern = r'[\\[*\\]*\\\"*,*.*\\n*\\'**\\?*\\:*]',repl = ' ',string = x))\n",
    "        df['Article'] = df.Article.apply(lambda x:transform(x))\n",
    "        df['sentiment'] = df.Article.apply(lambda x: TextBlob(x).sentiment.polarity)\n",
    "        finall = {}\n",
    "        for x in df.cityname.values:\n",
    "            finall[x] = (df.sentiment.loc[df.cityname==x].sum())/(df[df.cityname=='New Delhi'].shape[0])\n",
    "        return finall"
   ]
  },
  {
   "cell_type": "code",
   "execution_count": 76,
   "metadata": {
    "collapsed": true
   },
   "outputs": [],
   "source": [
    "d = senti()\n",
    "#d.DownloadArticle()"
   ]
  },
  {
   "cell_type": "code",
   "execution_count": 77,
   "metadata": {},
   "outputs": [],
   "source": [
    "d.analyse()"
   ]
  },
  {
   "cell_type": "code",
   "execution_count": 51,
   "metadata": {},
   "outputs": [],
   "source": []
  },
  {
   "cell_type": "code",
   "execution_count": 3,
   "metadata": {},
   "outputs": [],
   "source": [
    "df = pd.read_csv('Articles.csv')\n",
    "df['Article'] = df['Article'].apply(lambda x: re.sub(pattern = r'[\\[*\\]*\\\"*,*.*\\n*\\'**\\?*\\:*]',repl = ' ',string = x))\n",
    "df['Article'] = df.Article.apply(lambda x:transform(x))\n",
    "df['sentiment'] = df.Article.apply(lambda x: TextBlob(x).sentiment.polarity)\n",
    "finall = {}\n",
    "for x in df.cityname.values:\n",
    "    finall[x] = (df.sentiment.loc[df.cityname==x].sum())/(df[df.cityname=='New Delhi'].shape[0])"
   ]
  },
  {
   "cell_type": "code",
   "execution_count": 70,
   "metadata": {},
   "outputs": [
    {
     "data": {
      "text/plain": [
       "{'Bengaluru': 0.038099200109361527,\n",
       " 'Chennai': 0.13071236379808573,\n",
       " 'Hyderabad': 0.14007251274735188,\n",
       " 'Kochi': 0.10400164030000557,\n",
       " 'Kolkata': -0.00056903335285549085,\n",
       " 'Mumbai': 0.040853635373992656,\n",
       " 'New Delhi': 0.040414718257335225,\n",
       " 'Vijayawada': 0.051910122607326525,\n",
       " 'Visakhapatnam': 0.051873136397133084}"
      ]
     },
     "execution_count": 70,
     "metadata": {},
     "output_type": "execute_result"
    }
   ],
   "source": [
    "finall"
   ]
  },
  {
   "cell_type": "code",
   "execution_count": null,
   "metadata": {
    "collapsed": true
   },
   "outputs": [],
   "source": []
  },
  {
   "cell_type": "code",
   "execution_count": null,
   "metadata": {
    "collapsed": true
   },
   "outputs": [],
   "source": []
  },
  {
   "cell_type": "code",
   "execution_count": null,
   "metadata": {
    "collapsed": true
   },
   "outputs": [],
   "source": []
  }
 ],
 "metadata": {
  "kernelspec": {
   "display_name": "Python 3",
   "language": "python",
   "name": "python3"
  },
  "language_info": {
   "codemirror_mode": {
    "name": "ipython",
    "version": 3
   },
   "file_extension": ".py",
   "mimetype": "text/x-python",
   "name": "python",
   "nbconvert_exporter": "python",
   "pygments_lexer": "ipython3",
   "version": "3.6.1"
  }
 },
 "nbformat": 4,
 "nbformat_minor": 2
}
